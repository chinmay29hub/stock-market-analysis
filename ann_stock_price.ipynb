{
  "nbformat": 4,
  "nbformat_minor": 0,
  "metadata": {
    "colab": {
      "name": "ann stock price",
      "provenance": [],
      "collapsed_sections": [],
      "include_colab_link": true
    },
    "kernelspec": {
      "name": "python3",
      "display_name": "Python 3"
    }
  },
  "cells": [
    {
      "cell_type": "markdown",
      "metadata": {
        "id": "view-in-github",
        "colab_type": "text"
      },
      "source": [
        "<a href=\"https://colab.research.google.com/github/chinmay29hub/stock-market-analysis/blob/main/ann_stock_price.ipynb\" target=\"_parent\"><img src=\"https://colab.research.google.com/assets/colab-badge.svg\" alt=\"Open In Colab\"/></a>"
      ]
    },
    {
      "cell_type": "markdown",
      "metadata": {
        "id": "3cbb7fRy-eyr"
      },
      "source": [
        "# Artificial Neural Network"
      ]
    },
    {
      "cell_type": "code",
      "metadata": {
        "id": "RfXfEe1sfUnv"
      },
      "source": [
        ""
      ],
      "execution_count": null,
      "outputs": []
    },
    {
      "cell_type": "markdown",
      "metadata": {
        "id": "8sNDnxE2-pwE"
      },
      "source": [
        "### Importing the libraries"
      ]
    },
    {
      "cell_type": "code",
      "metadata": {
        "id": "lxChR1Rk-umf"
      },
      "source": [
        "import numpy as np\n",
        "import pandas as pd\n",
        "import tensorflow as tf\n",
        "import matplotlib.pyplot as plt\n"
      ],
      "execution_count": null,
      "outputs": []
    },
    {
      "cell_type": "code",
      "metadata": {
        "id": "uBTqR3nacj0e",
        "colab": {
          "base_uri": "https://localhost:8080/",
          "height": 35
        },
        "outputId": "aa8947a5-0a3e-49bd-f071-d03b492eb7f8"
      },
      "source": [
        "tf.__version__"
      ],
      "execution_count": null,
      "outputs": [
        {
          "output_type": "execute_result",
          "data": {
            "application/vnd.google.colaboratory.intrinsic+json": {
              "type": "string"
            },
            "text/plain": [
              "'2.6.0'"
            ]
          },
          "metadata": {},
          "execution_count": 2
        }
      ]
    },
    {
      "cell_type": "markdown",
      "metadata": {
        "id": "AG3FQEch-yuA"
      },
      "source": [
        "## Part 1 - Data Preprocessing"
      ]
    },
    {
      "cell_type": "markdown",
      "metadata": {
        "id": "-4zq8Mza_D9O"
      },
      "source": [
        "### Importing the dataset"
      ]
    },
    {
      "cell_type": "code",
      "metadata": {
        "id": "B9CV13Co_HHM"
      },
      "source": [
        "dataset_train=pd.read_csv('Google_Stock_Price_Train.csv')\n",
        "dataset_test=pd.read_csv('Google_Stock_Price_Test.csv')\n",
        "X_train=dataset_train.iloc[:-1,1:2].values  #creating a numarray that contains the open price of the stock\n",
        "y_train=dataset_train.iloc[1:,1:2].values\n",
        "X_test=dataset_test.iloc[:-1,1:2].values  #creating a numarray that contains the open price of the stock\n",
        "y_test=dataset_test.iloc[1:,1:2].values"
      ],
      "execution_count": null,
      "outputs": []
    },
    {
      "cell_type": "markdown",
      "metadata": {
        "id": "PQU3D4i8HjBu"
      },
      "source": [
        "we are trying to predict the opening price using the previous days opening stock price\n"
      ]
    },
    {
      "cell_type": "code",
      "metadata": {
        "colab": {
          "base_uri": "https://localhost:8080/"
        },
        "id": "1SRK5NIUHNT0",
        "outputId": "2db8fe87-5f31-483f-a41c-60c854cf0891"
      },
      "source": [
        "print(y_test)"
      ],
      "execution_count": null,
      "outputs": [
        {
          "output_type": "stream",
          "name": "stdout",
          "text": [
            "[[788.36]\n",
            " [786.08]\n",
            " [795.26]\n",
            " [806.4 ]\n",
            " [807.86]\n",
            " [805.  ]\n",
            " [807.14]\n",
            " [807.48]\n",
            " [807.08]\n",
            " [805.81]\n",
            " [805.12]\n",
            " [806.91]\n",
            " [807.25]\n",
            " [822.3 ]\n",
            " [829.62]\n",
            " [837.81]\n",
            " [834.71]\n",
            " [814.66]\n",
            " [796.86]]\n"
          ]
        }
      ]
    },
    {
      "cell_type": "code",
      "metadata": {
        "colab": {
          "base_uri": "https://localhost:8080/"
        },
        "id": "B_Dee-AhEfA9",
        "outputId": "348500ce-38be-4898-9eee-0bc35ea188ae"
      },
      "source": [
        "print(X_test)"
      ],
      "execution_count": null,
      "outputs": [
        {
          "output_type": "stream",
          "name": "stdout",
          "text": [
            "[[778.81]\n",
            " [788.36]\n",
            " [786.08]\n",
            " [795.26]\n",
            " [806.4 ]\n",
            " [807.86]\n",
            " [805.  ]\n",
            " [807.14]\n",
            " [807.48]\n",
            " [807.08]\n",
            " [805.81]\n",
            " [805.12]\n",
            " [806.91]\n",
            " [807.25]\n",
            " [822.3 ]\n",
            " [829.62]\n",
            " [837.81]\n",
            " [834.71]\n",
            " [814.66]]\n"
          ]
        }
      ]
    },
    {
      "cell_type": "markdown",
      "metadata": {
        "id": "_mSLlAT9_eyI"
      },
      "source": [
        "## Part 2 - Building the ANN"
      ]
    },
    {
      "cell_type": "markdown",
      "metadata": {
        "id": "CsBULd_f_wLY"
      },
      "source": [
        "### Initializing the ANN"
      ]
    },
    {
      "cell_type": "code",
      "metadata": {
        "id": "J6Hd97Ls__Nz"
      },
      "source": [
        "ann = tf.keras.models.Sequential()#used to create a sequnece of layers\n"
      ],
      "execution_count": null,
      "outputs": []
    },
    {
      "cell_type": "markdown",
      "metadata": {
        "id": "iitAFJS_ABUn"
      },
      "source": [
        "### Adding the input layer and the first hidden layer"
      ]
    },
    {
      "cell_type": "code",
      "metadata": {
        "id": "ksO_Vv40AHix"
      },
      "source": [
        "ann.add(tf.keras.layers.Dense(units=6, activation='relu'))"
      ],
      "execution_count": null,
      "outputs": []
    },
    {
      "cell_type": "markdown",
      "metadata": {
        "id": "-lb4kK_wAKbs"
      },
      "source": [
        "### Adding the second hidden layer"
      ]
    },
    {
      "cell_type": "code",
      "metadata": {
        "id": "c2357OqEAQOQ"
      },
      "source": [
        "ann.add(tf.keras.layers.Dense(units=6, activation='relu'))"
      ],
      "execution_count": null,
      "outputs": []
    },
    {
      "cell_type": "markdown",
      "metadata": {
        "id": "jwMOmKb3AdBY"
      },
      "source": [
        "### Adding the output layer"
      ]
    },
    {
      "cell_type": "code",
      "metadata": {
        "id": "YFATpzsUAkLL"
      },
      "source": [
        "ann.add(tf.keras.layers.Dense(units=1))"
      ],
      "execution_count": null,
      "outputs": []
    },
    {
      "cell_type": "markdown",
      "metadata": {
        "id": "fq7e4fF6A1yy"
      },
      "source": [
        "## Part 3 - Training the ANN"
      ]
    },
    {
      "cell_type": "markdown",
      "metadata": {
        "id": "qDeylAs2An25"
      },
      "source": [
        "### Compiling the ANN"
      ]
    },
    {
      "cell_type": "code",
      "metadata": {
        "id": "pesgbWlCAtB4"
      },
      "source": [
        "ann.compile(optimizer = 'adam', loss = 'mean_squared_error')"
      ],
      "execution_count": null,
      "outputs": []
    },
    {
      "cell_type": "markdown",
      "metadata": {
        "id": "YjVuiybYOo7r"
      },
      "source": [
        "### Training the ANN model on the Training set"
      ]
    },
    {
      "cell_type": "code",
      "metadata": {
        "id": "c_vV-tiiA5zn",
        "colab": {
          "base_uri": "https://localhost:8080/"
        },
        "outputId": "1c37c5c2-c711-4370-97e3-5dca5c04fca6"
      },
      "source": [
        "ann.fit(X_train, y_train, batch_size = 32, epochs = 100)"
      ],
      "execution_count": null,
      "outputs": [
        {
          "output_type": "stream",
          "name": "stdout",
          "text": [
            "Epoch 1/100\n",
            "40/40 [==============================] - 1s 1ms/step - loss: 266455.6875\n",
            "Epoch 2/100\n",
            "40/40 [==============================] - 0s 1ms/step - loss: 218683.9062\n",
            "Epoch 3/100\n",
            "40/40 [==============================] - 0s 1ms/step - loss: 170013.8750\n",
            "Epoch 4/100\n",
            "40/40 [==============================] - 0s 1ms/step - loss: 111290.6172\n",
            "Epoch 5/100\n",
            "40/40 [==============================] - 0s 1ms/step - loss: 50861.2500\n",
            "Epoch 6/100\n",
            "40/40 [==============================] - 0s 2ms/step - loss: 12272.5557\n",
            "Epoch 7/100\n",
            "40/40 [==============================] - 0s 2ms/step - loss: 1145.1472\n",
            "Epoch 8/100\n",
            "40/40 [==============================] - 0s 1ms/step - loss: 91.7623\n",
            "Epoch 9/100\n",
            "40/40 [==============================] - 0s 1ms/step - loss: 70.5851\n",
            "Epoch 10/100\n",
            "40/40 [==============================] - 0s 1ms/step - loss: 70.6833\n",
            "Epoch 11/100\n",
            "40/40 [==============================] - 0s 1ms/step - loss: 70.8243\n",
            "Epoch 12/100\n",
            "40/40 [==============================] - 0s 1ms/step - loss: 70.6840\n",
            "Epoch 13/100\n",
            "40/40 [==============================] - 0s 1ms/step - loss: 70.6942\n",
            "Epoch 14/100\n",
            "40/40 [==============================] - 0s 2ms/step - loss: 70.7244\n",
            "Epoch 15/100\n",
            "40/40 [==============================] - 0s 1ms/step - loss: 70.6872\n",
            "Epoch 16/100\n",
            "40/40 [==============================] - 0s 1ms/step - loss: 70.6992\n",
            "Epoch 17/100\n",
            "40/40 [==============================] - 0s 1ms/step - loss: 70.7779\n",
            "Epoch 18/100\n",
            "40/40 [==============================] - 0s 1ms/step - loss: 70.7193\n",
            "Epoch 19/100\n",
            "40/40 [==============================] - 0s 1ms/step - loss: 70.7564\n",
            "Epoch 20/100\n",
            "40/40 [==============================] - 0s 1ms/step - loss: 70.8148\n",
            "Epoch 21/100\n",
            "40/40 [==============================] - 0s 1ms/step - loss: 70.7822\n",
            "Epoch 22/100\n",
            "40/40 [==============================] - 0s 1ms/step - loss: 70.6891\n",
            "Epoch 23/100\n",
            "40/40 [==============================] - 0s 1ms/step - loss: 70.7554\n",
            "Epoch 24/100\n",
            "40/40 [==============================] - 0s 1ms/step - loss: 70.9133\n",
            "Epoch 25/100\n",
            "40/40 [==============================] - 0s 2ms/step - loss: 70.7381\n",
            "Epoch 26/100\n",
            "40/40 [==============================] - 0s 1ms/step - loss: 70.7684\n",
            "Epoch 27/100\n",
            "40/40 [==============================] - 0s 1ms/step - loss: 70.6881\n",
            "Epoch 28/100\n",
            "40/40 [==============================] - 0s 1ms/step - loss: 70.7016\n",
            "Epoch 29/100\n",
            "40/40 [==============================] - 0s 1ms/step - loss: 70.6609\n",
            "Epoch 30/100\n",
            "40/40 [==============================] - 0s 1ms/step - loss: 70.7292\n",
            "Epoch 31/100\n",
            "40/40 [==============================] - 0s 1ms/step - loss: 70.7156\n",
            "Epoch 32/100\n",
            "40/40 [==============================] - 0s 1ms/step - loss: 70.6938\n",
            "Epoch 33/100\n",
            "40/40 [==============================] - 0s 1ms/step - loss: 70.6690\n",
            "Epoch 34/100\n",
            "40/40 [==============================] - 0s 1ms/step - loss: 70.7533\n",
            "Epoch 35/100\n",
            "40/40 [==============================] - 0s 1ms/step - loss: 70.7551\n",
            "Epoch 36/100\n",
            "40/40 [==============================] - 0s 1ms/step - loss: 70.7353\n",
            "Epoch 37/100\n",
            "40/40 [==============================] - 0s 2ms/step - loss: 70.8254\n",
            "Epoch 38/100\n",
            "40/40 [==============================] - 0s 1ms/step - loss: 70.9672\n",
            "Epoch 39/100\n",
            "40/40 [==============================] - 0s 1ms/step - loss: 70.7489\n",
            "Epoch 40/100\n",
            "40/40 [==============================] - 0s 1ms/step - loss: 70.8309\n",
            "Epoch 41/100\n",
            "40/40 [==============================] - 0s 1ms/step - loss: 70.8648\n",
            "Epoch 42/100\n",
            "40/40 [==============================] - 0s 1ms/step - loss: 71.1191\n",
            "Epoch 43/100\n",
            "40/40 [==============================] - 0s 1ms/step - loss: 70.6798\n",
            "Epoch 44/100\n",
            "40/40 [==============================] - 0s 1ms/step - loss: 70.8232\n",
            "Epoch 45/100\n",
            "40/40 [==============================] - 0s 1ms/step - loss: 71.0331\n",
            "Epoch 46/100\n",
            "40/40 [==============================] - 0s 1ms/step - loss: 70.7304\n",
            "Epoch 47/100\n",
            "40/40 [==============================] - 0s 1ms/step - loss: 70.9506\n",
            "Epoch 48/100\n",
            "40/40 [==============================] - 0s 1ms/step - loss: 70.7844\n",
            "Epoch 49/100\n",
            "40/40 [==============================] - 0s 1ms/step - loss: 70.7671\n",
            "Epoch 50/100\n",
            "40/40 [==============================] - 0s 2ms/step - loss: 70.6888\n",
            "Epoch 51/100\n",
            "40/40 [==============================] - 0s 1ms/step - loss: 70.7394\n",
            "Epoch 52/100\n",
            "40/40 [==============================] - 0s 1ms/step - loss: 70.7435\n",
            "Epoch 53/100\n",
            "40/40 [==============================] - 0s 1ms/step - loss: 70.8099\n",
            "Epoch 54/100\n",
            "40/40 [==============================] - 0s 1ms/step - loss: 70.7740\n",
            "Epoch 55/100\n",
            "40/40 [==============================] - 0s 1ms/step - loss: 70.9560\n",
            "Epoch 56/100\n",
            "40/40 [==============================] - 0s 1ms/step - loss: 70.9146\n",
            "Epoch 57/100\n",
            "40/40 [==============================] - 0s 1ms/step - loss: 71.5698\n",
            "Epoch 58/100\n",
            "40/40 [==============================] - 0s 1ms/step - loss: 70.8967\n",
            "Epoch 59/100\n",
            "40/40 [==============================] - 0s 1ms/step - loss: 71.2862\n",
            "Epoch 60/100\n",
            "40/40 [==============================] - 0s 1ms/step - loss: 70.7724\n",
            "Epoch 61/100\n",
            "40/40 [==============================] - 0s 1ms/step - loss: 70.8065\n",
            "Epoch 62/100\n",
            "40/40 [==============================] - 0s 1ms/step - loss: 71.1625\n",
            "Epoch 63/100\n",
            "40/40 [==============================] - 0s 1ms/step - loss: 70.9664\n",
            "Epoch 64/100\n",
            "40/40 [==============================] - 0s 1ms/step - loss: 70.7253\n",
            "Epoch 65/100\n",
            "40/40 [==============================] - 0s 1ms/step - loss: 70.9010\n",
            "Epoch 66/100\n",
            "40/40 [==============================] - 0s 1ms/step - loss: 71.5926\n",
            "Epoch 67/100\n",
            "40/40 [==============================] - 0s 1ms/step - loss: 70.8401\n",
            "Epoch 68/100\n",
            "40/40 [==============================] - 0s 1ms/step - loss: 71.3842\n",
            "Epoch 69/100\n",
            "40/40 [==============================] - 0s 2ms/step - loss: 71.0641\n",
            "Epoch 70/100\n",
            "40/40 [==============================] - 0s 1ms/step - loss: 71.2084\n",
            "Epoch 71/100\n",
            "40/40 [==============================] - 0s 1ms/step - loss: 71.2342\n",
            "Epoch 72/100\n",
            "40/40 [==============================] - 0s 1ms/step - loss: 70.8400\n",
            "Epoch 73/100\n",
            "40/40 [==============================] - 0s 1ms/step - loss: 71.1159\n",
            "Epoch 74/100\n",
            "40/40 [==============================] - 0s 1ms/step - loss: 71.3752\n",
            "Epoch 75/100\n",
            "40/40 [==============================] - 0s 1ms/step - loss: 70.7710\n",
            "Epoch 76/100\n",
            "40/40 [==============================] - 0s 1ms/step - loss: 70.9676\n",
            "Epoch 77/100\n",
            "40/40 [==============================] - 0s 1ms/step - loss: 70.9587\n",
            "Epoch 78/100\n",
            "40/40 [==============================] - 0s 1ms/step - loss: 70.8880\n",
            "Epoch 79/100\n",
            "40/40 [==============================] - 0s 2ms/step - loss: 71.0316\n",
            "Epoch 80/100\n",
            "40/40 [==============================] - 0s 1ms/step - loss: 71.0548\n",
            "Epoch 81/100\n",
            "40/40 [==============================] - 0s 1ms/step - loss: 70.9331\n",
            "Epoch 82/100\n",
            "40/40 [==============================] - 0s 1ms/step - loss: 70.8965\n",
            "Epoch 83/100\n",
            "40/40 [==============================] - 0s 1ms/step - loss: 70.4930\n",
            "Epoch 84/100\n",
            "40/40 [==============================] - 0s 1ms/step - loss: 71.9347\n",
            "Epoch 85/100\n",
            "40/40 [==============================] - 0s 1ms/step - loss: 71.5010\n",
            "Epoch 86/100\n",
            "40/40 [==============================] - 0s 1ms/step - loss: 71.4619\n",
            "Epoch 87/100\n",
            "40/40 [==============================] - 0s 1ms/step - loss: 70.5256\n",
            "Epoch 88/100\n",
            "40/40 [==============================] - 0s 2ms/step - loss: 72.2500\n",
            "Epoch 89/100\n",
            "40/40 [==============================] - 0s 1ms/step - loss: 71.0355\n",
            "Epoch 90/100\n",
            "40/40 [==============================] - 0s 1ms/step - loss: 71.0037\n",
            "Epoch 91/100\n",
            "40/40 [==============================] - 0s 1ms/step - loss: 71.0317\n",
            "Epoch 92/100\n",
            "40/40 [==============================] - 0s 1ms/step - loss: 71.0710\n",
            "Epoch 93/100\n",
            "40/40 [==============================] - 0s 1ms/step - loss: 71.5952\n",
            "Epoch 94/100\n",
            "40/40 [==============================] - 0s 1ms/step - loss: 72.0235\n",
            "Epoch 95/100\n",
            "40/40 [==============================] - 0s 1ms/step - loss: 70.9533\n",
            "Epoch 96/100\n",
            "40/40 [==============================] - 0s 1ms/step - loss: 71.7182\n",
            "Epoch 97/100\n",
            "40/40 [==============================] - 0s 1ms/step - loss: 71.1770\n",
            "Epoch 98/100\n",
            "40/40 [==============================] - 0s 1ms/step - loss: 71.5844\n",
            "Epoch 99/100\n",
            "40/40 [==============================] - 0s 2ms/step - loss: 71.2514\n",
            "Epoch 100/100\n",
            "40/40 [==============================] - 0s 1ms/step - loss: 70.8737\n"
          ]
        },
        {
          "output_type": "execute_result",
          "data": {
            "text/plain": [
              "<keras.callbacks.History at 0x7f6a6439ccd0>"
            ]
          },
          "metadata": {},
          "execution_count": 11
        }
      ]
    },
    {
      "cell_type": "markdown",
      "metadata": {
        "id": "0H0zKKNEBLD5"
      },
      "source": [
        "### Predicting the results of the Test set"
      ]
    },
    {
      "cell_type": "code",
      "metadata": {
        "id": "IA0yApEmBG1X",
        "colab": {
          "base_uri": "https://localhost:8080/"
        },
        "outputId": "24ccde37-8ed1-414f-d594-8cac66e791e8"
      },
      "source": [
        "y_pred = ann.predict(X_test)\n",
        "# np.set_printoptions(precision=2)#set the decimal place to 2\n",
        "# print(np.concatenate((y_pred.reshape(len(y_pred),1), y_test.reshape(len(y_test),1)),1))#reshaping horizontal to vertical vector\n",
        "print(y_pred)\n",
        "print(y_test)\n",
        "print(y_pred-y_test)"
      ],
      "execution_count": null,
      "outputs": [
        {
          "output_type": "stream",
          "name": "stdout",
          "text": [
            "[[777.72107]\n",
            " [787.24506]\n",
            " [784.9713 ]\n",
            " [794.12634]\n",
            " [805.2359 ]\n",
            " [806.692  ]\n",
            " [803.8398 ]\n",
            " [805.97394]\n",
            " [806.313  ]\n",
            " [805.9141 ]\n",
            " [804.6475 ]\n",
            " [803.9594 ]\n",
            " [805.74457]\n",
            " [806.0836 ]\n",
            " [821.09265]\n",
            " [828.3927 ]\n",
            " [836.5604 ]\n",
            " [833.4689 ]\n",
            " [813.4735 ]]\n",
            "[[788.36]\n",
            " [786.08]\n",
            " [795.26]\n",
            " [806.4 ]\n",
            " [807.86]\n",
            " [805.  ]\n",
            " [807.14]\n",
            " [807.48]\n",
            " [807.08]\n",
            " [805.81]\n",
            " [805.12]\n",
            " [806.91]\n",
            " [807.25]\n",
            " [822.3 ]\n",
            " [829.62]\n",
            " [837.81]\n",
            " [834.71]\n",
            " [814.66]\n",
            " [796.86]]\n",
            "[[-10.63893066]\n",
            " [  1.16505615]\n",
            " [-10.28868652]\n",
            " [-12.27365723]\n",
            " [ -2.62409912]\n",
            " [  1.6920166 ]\n",
            " [ -3.30021729]\n",
            " [ -1.50606201]\n",
            " [ -0.76701172]\n",
            " [  0.10412354]\n",
            " [ -0.47247803]\n",
            " [ -2.95058838]\n",
            " [ -1.50543213]\n",
            " [-16.21638184]\n",
            " [ -8.52734863]\n",
            " [ -9.4172998 ]\n",
            " [  1.8504248 ]\n",
            " [ 18.80887207]\n",
            " [ 16.61351074]]\n"
          ]
        }
      ]
    },
    {
      "cell_type": "code",
      "metadata": {
        "id": "8OUI8U49k9tH",
        "colab": {
          "base_uri": "https://localhost:8080/",
          "height": 295
        },
        "outputId": "fc5b6217-7651-4819-add4-7207e9ab0dbe"
      },
      "source": [
        "from sklearn.metrics import confusion_matrix, accuracy_score\n",
        "plt.plot(y_test, color = 'red', label = 'Real Google Stock Price')\n",
        "plt.plot(y_pred, color = 'blue', label = 'Predicted Google Stock Price')\n",
        "plt.title('Google Stock Price Prediction')\n",
        "plt.xlabel('Time')\n",
        "plt.ylabel('Google Stock Price')\n",
        "plt.legend()\n",
        "plt.show()\n"
      ],
      "execution_count": null,
      "outputs": [
        {
          "output_type": "display_data",
          "data": {
            "image/png": "[encoded data removed]",
            "text/plain": [
              "<Figure size 432x288 with 1 Axes>"
            ]
          },
          "metadata": {
            "needs_background": "light"
          }
        }
      ]
    },
    {
      "cell_type": "code",
      "metadata": {
        "id": "2FijTDYmWwpv",
        "colab": {
          "base_uri": "https://localhost:8080/",
          "height": 279
        },
        "outputId": "2dc10f73-11a6-43e3-9860-cf30e34d8842"
      },
      "source": [
        "plt.plot(abs(y_pred-y_test), color = 'red', label = 'Difference')\n",
        "plt.xlabel('Time')\n",
        "plt.ylabel('difference')\n",
        "plt.legend()\n",
        "plt.show()"
      ],
      "execution_count": null,
      "outputs": [
        {
          "output_type": "display_data",
          "data": {
            "image/png": "[encoded data removed]",
            "text/plain": [
              "<Figure size 432x288 with 1 Axes>"
            ]
          },
          "metadata": {
            "needs_background": "light"
          }
        }
      ]
    },
    {
      "cell_type": "code",
      "metadata": {
        "id": "GuWR7o1ZQc9j"
      },
      "source": [
        "# dataset_test_1=pd.read_csv('WIPRO.NS.csv')\n",
        "# X_test_1=dataset_test_1.iloc[:-1,1:2].values  #creating a numarray that contains the open price of the stock\n",
        "# y_test_1=dataset_test_1.iloc[1:,1:2].values\n",
        "# y_pred_1 = ann.predict(X_test_1)\n",
        "# # np.set_printoptions(precision=2)#set the decimal place to 2\n",
        "# # print(np.concatenate((y_pred.reshape(len(y_pred),1), y_test.reshape(len(y_test),1)),1))#reshaping horizontal to vertical vector\n",
        "\n",
        "# plt.plot(y_test_1[:15], color = 'red', label = 'Real Wipro Stock Price')\n",
        "# plt.plot(y_pred_1[:15], color = 'blue', label = 'Predicted Wipro Stock Price')\n",
        "# plt.title('Google Stock Price Prediction')\n",
        "# plt.xlabel('Time')\n",
        "# plt.ylabel('Google Stock Price')\n",
        "# plt.legend()\n",
        "# plt.show()"
      ],
      "execution_count": null,
      "outputs": []
    },
    {
      "cell_type": "code",
      "metadata": {
        "id": "ssWdPmb1fWBC",
        "colab": {
          "base_uri": "https://localhost:8080/"
        },
        "outputId": "5d52981f-4e49-4023-96f6-ec1c1fc5f447"
      },
      "source": [
        "totalsum=abs(y_test-y_pred)\n",
        "totalsum=np.sum(totalsum)/np.sum(y_test)\n",
        "print(totalsum)\n"
      ],
      "execution_count": null,
      "outputs": [
        {
          "output_type": "stream",
          "name": "stdout",
          "text": [
            "0.007853530756540744\n"
          ]
        }
      ]
    },
    {
      "cell_type": "markdown",
      "metadata": {
        "id": "Q8I6TVN-rJ6w"
      },
      "source": [
        "Save model\n"
      ]
    },
    {
      "cell_type": "code",
      "metadata": {
        "id": "0Zg-osPVrNAA"
      },
      "source": [
        "ann.save('ann.h5')"
      ],
      "execution_count": null,
      "outputs": []
    }
  ]
}